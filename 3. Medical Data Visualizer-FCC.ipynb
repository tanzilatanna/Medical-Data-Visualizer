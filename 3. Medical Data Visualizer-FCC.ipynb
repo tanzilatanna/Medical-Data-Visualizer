{
 "cells": [
  {
   "cell_type": "code",
   "execution_count": 1,
   "id": "3c4859e6",
   "metadata": {},
   "outputs": [],
   "source": [
    "#Create a chart similar to examples/Figure_1.png, \n",
    "#where we show the counts of good and bad outcomes for the cholesterol, gluc, alco, active, and\n",
    "#smoke variables for patients with cardio=1 and cardio=0 in different panels."
   ]
  },
  {
   "cell_type": "code",
   "execution_count": 1,
   "id": "40b6a18e",
   "metadata": {},
   "outputs": [],
   "source": [
    "import numpy as np\n",
    "import pandas as pd\n",
    "import matplotlib.pyplot as plt\n",
    "import seaborn as sns"
   ]
  },
  {
   "cell_type": "code",
   "execution_count": 3,
   "id": "c5e4aceb",
   "metadata": {},
   "outputs": [],
   "source": [
    "df = pd.read_csv('medical_examination.csv')"
   ]
  },
  {
   "cell_type": "code",
   "execution_count": 4,
   "id": "a5eb39e8",
   "metadata": {},
   "outputs": [
    {
     "name": "stdout",
     "output_type": "stream",
     "text": [
      "          id    age  sex  height  weight  ap_hi  ap_lo  cholesterol  gluc  \\\n",
      "0          0  18393    2     168    62.0    110     80            1     1   \n",
      "1          1  20228    1     156    85.0    140     90            3     1   \n",
      "2          2  18857    1     165    64.0    130     70            3     1   \n",
      "3          3  17623    2     169    82.0    150    100            1     1   \n",
      "4          4  17474    1     156    56.0    100     60            1     1   \n",
      "...      ...    ...  ...     ...     ...    ...    ...          ...   ...   \n",
      "69995  99993  19240    2     168    76.0    120     80            1     1   \n",
      "69996  99995  22601    1     158   126.0    140     90            2     2   \n",
      "69997  99996  19066    2     183   105.0    180     90            3     1   \n",
      "69998  99998  22431    1     163    72.0    135     80            1     2   \n",
      "69999  99999  20540    1     170    72.0    120     80            2     1   \n",
      "\n",
      "       smoke  alco  active  cardio  \n",
      "0          0     0       1       0  \n",
      "1          0     0       1       1  \n",
      "2          0     0       0       1  \n",
      "3          0     0       1       1  \n",
      "4          0     0       0       0  \n",
      "...      ...   ...     ...     ...  \n",
      "69995      1     0       1       0  \n",
      "69996      0     0       1       1  \n",
      "69997      0     1       0       1  \n",
      "69998      0     0       0       1  \n",
      "69999      0     0       1       0  \n",
      "\n",
      "[70000 rows x 13 columns]\n"
     ]
    }
   ],
   "source": [
    "print(df)\n"
   ]
  },
  {
   "cell_type": "code",
   "execution_count": 2,
   "id": "5bd11dc6",
   "metadata": {},
   "outputs": [],
   "source": [
    "#Add an overweight column to the data. \n",
    "#To determine if a person is overweight, first calculate their BMI by dividing their weight\n",
    "#in kilograms by the square of their height in meters. \n",
    "#If that value is > 25 then the person is overweight. Use the value 0 for NOT overweight and the value 1 for overweight."
   ]
  },
  {
   "cell_type": "code",
   "execution_count": 5,
   "id": "b4eb5ea6",
   "metadata": {},
   "outputs": [],
   "source": [
    "BMI = df['weight']/ np.square(df['height']/100)"
   ]
  },
  {
   "cell_type": "code",
   "execution_count": 7,
   "id": "271327a8",
   "metadata": {},
   "outputs": [],
   "source": [
    "df['overweight'] = (BMI > 25).astype('uint8')"
   ]
  },
  {
   "cell_type": "code",
   "execution_count": null,
   "id": "348a6d46",
   "metadata": {},
   "outputs": [],
   "source": [
    "print(df['overweight'])"
   ]
  },
  {
   "cell_type": "code",
   "execution_count": 3,
   "id": "7aa63f18",
   "metadata": {},
   "outputs": [],
   "source": [
    "#Normalize the data by making 0 always good and 1 always bad. \n",
    "#If the value of cholesterol or gluc is 1, make the value 0. If the value is more than 1, make the value 1.\n",
    "#Convert the data into long format and create a chart that shows the value counts of the categorical features using seaborn's \n",
    "#catplot(). The dataset should be split by 'Cardio' so there is one chart for each cardio value. \n",
    "#The chart should look like examples/Figure_1.png."
   ]
  },
  {
   "cell_type": "code",
   "execution_count": 11,
   "id": "635b0214",
   "metadata": {},
   "outputs": [],
   "source": [
    "df['gluc']= (df['gluc']!= 1).astype('uint8')\n",
    "df['cholesterol']=(df['cholesterol'] != 1).astype('uint8')"
   ]
  },
  {
   "cell_type": "code",
   "execution_count": 22,
   "id": "5e1d177c",
   "metadata": {},
   "outputs": [
    {
     "name": "stdout",
     "output_type": "stream",
     "text": [
      "        cardio variable  value\n",
      "0            0   active      1\n",
      "1            1   active      1\n",
      "2            1   active      0\n",
      "3            1   active      1\n",
      "4            0   active      0\n",
      "...        ...      ...    ...\n",
      "419995       0    smoke      1\n",
      "419996       1    smoke      0\n",
      "419997       1    smoke      0\n",
      "419998       1    smoke      0\n",
      "419999       0    smoke      0\n",
      "\n",
      "[420000 rows x 3 columns]\n"
     ]
    }
   ],
   "source": [
    "columns = ['active', 'alco','cholesterol','gluc','overweight','smoke']\n",
    "df_cat = pd.melt(df, id_vars = [\"cardio\"], value_vars = columns)\n",
    "print(df_cat)"
   ]
  },
  {
   "cell_type": "code",
   "execution_count": null,
   "id": "d78164cd",
   "metadata": {},
   "outputs": [],
   "source": []
  },
  {
   "cell_type": "code",
   "execution_count": 27,
   "id": "f1e8531b",
   "metadata": {},
   "outputs": [],
   "source": [
    "df_cat = df_cat.reset_index()\\\n",
    ".groupby(['variable','cardio','value'])\\\n",
    ".agg('count')\\\n",
    ".rename(columns = {'index':'total'})\\\n",
    ".reset_index()"
   ]
  },
  {
   "cell_type": "code",
   "execution_count": null,
   "id": "00b561d2",
   "metadata": {},
   "outputs": [],
   "source": [
    "#draw the catplot with sn.catplot()"
   ]
  },
  {
   "cell_type": "code",
   "execution_count": 28,
   "id": "7714bd98",
   "metadata": {},
   "outputs": [
    {
     "data": {
      "image/png": "[encoded data removed]",
      "text/plain": [
       "<Figure size 762.375x360 with 2 Axes>"
      ]
     },
     "metadata": {
      "needs_background": "light"
     },
     "output_type": "display_data"
    }
   ],
   "source": [
    "fig = sns.catplot(x=\"variable\",y=\"total\",col=\"cardio\",hue= \"value\", data = df_cat, kind=\"bar\").fig"
   ]
  },
  {
   "cell_type": "code",
   "execution_count": 4,
   "id": "6492ba31",
   "metadata": {},
   "outputs": [],
   "source": [
    "#Clean the data. Filter out the following patient segments that represent incorrect data:\n",
    "#diastolic pressure is higher than systolic (Keep the correct data with (df['ap_lo'] <= df['ap_hi']))\n",
    "#height is less than the 2.5th percentile (Keep the correct data with (df['height'] >= df['height'].quantile(0.025)))\n",
    "#height is more than the 97.5th percentile\n",
    "#weight is less than the 2.5th percentile\n",
    "#weight is more than the 97.5th percentile"
   ]
  },
  {
   "cell_type": "code",
   "execution_count": 30,
   "id": "04d7a5c2",
   "metadata": {},
   "outputs": [],
   "source": [
    "df_heat = df[\n",
    "    (df['ap_lo'] <= df['ap_hi'])\n",
    "             & (df['height'] >= df['height'].quantile(0.025))\n",
    "             & (df['height'] <= df['height'].quantile(0.975))\n",
    "            &(df['weight'] >= df['weight'].quantile(0.025))\n",
    "            & (df['weight'] >= df['weight'].quantile(0.975))\n",
    "]"
   ]
  },
  {
   "cell_type": "code",
   "execution_count": null,
   "id": "06e03b8d",
   "metadata": {},
   "outputs": [],
   "source": []
  },
  {
   "cell_type": "code",
   "execution_count": 5,
   "id": "a763b924",
   "metadata": {},
   "outputs": [],
   "source": [
    "#Create a correlation matrix using the dataset. Plot the correlation matrix using seaborn's heatmap().\n",
    "#Mask the upper triangle. The chart should look like examples/Figure_2.png."
   ]
  },
  {
   "cell_type": "code",
   "execution_count": 34,
   "id": "9692ee41",
   "metadata": {},
   "outputs": [],
   "source": [
    "corr = df_heat.corr()"
   ]
  },
  {
   "cell_type": "code",
   "execution_count": 35,
   "id": "2d947bf2",
   "metadata": {},
   "outputs": [],
   "source": [
    "mask= np.zeros_like(corr)\n",
    "mask[np.triu_indices_from(mask)]= True"
   ]
  },
  {
   "cell_type": "code",
   "execution_count": 36,
   "id": "b943d87e",
   "metadata": {},
   "outputs": [
    {
     "data": {
      "text/plain": [
       "<Figure size 864x432 with 0 Axes>"
      ]
     },
     "metadata": {},
     "output_type": "display_data"
    }
   ],
   "source": [
    "fig2 = plt.figure(figsize =(12,6))"
   ]
  },
  {
   "cell_type": "code",
   "execution_count": null,
   "id": "5d604bef",
   "metadata": {},
   "outputs": [],
   "source": [
    "#draw the eatmap with sns.heatmap"
   ]
  },
  {
   "cell_type": "code",
   "execution_count": 37,
   "id": "cfdc7bb8",
   "metadata": {},
   "outputs": [
    {
     "data": {
      "text/plain": [
       "<AxesSubplot:>"
      ]
     },
     "execution_count": 37,
     "metadata": {},
     "output_type": "execute_result"
    },
    {
     "data": {
      "image/png": "[encoded data removed]",
      "text/plain": [
       "<Figure size 432x288 with 2 Axes>"
      ]
     },
     "metadata": {
      "needs_background": "light"
     },
     "output_type": "display_data"
    }
   ],
   "source": [
    "sns.heatmap(corr, mask=mask, annot =True,fmt ='.1f',center = 0,vmin= -0.5, vmax = 0.5)"
   ]
  },
  {
   "cell_type": "code",
   "execution_count": null,
   "id": "0ebdc3c4",
   "metadata": {},
   "outputs": [],
   "source": []
  },
  {
   "cell_type": "code",
   "execution_count": null,
   "id": "fb5b4881",
   "metadata": {},
   "outputs": [],
   "source": []
  },
  {
   "cell_type": "code",
   "execution_count": null,
   "id": "a369a57e",
   "metadata": {},
   "outputs": [],
   "source": []
  }
 ],
 "metadata": {
  "kernelspec": {
   "display_name": "Python 3 (ipykernel)",
   "language": "python",
   "name": "python3"
  },
  "language_info": {
   "codemirror_mode": {
    "name": "ipython",
    "version": 3
   },
   "file_extension": ".py",
   "mimetype": "text/x-python",
   "name": "python",
   "nbconvert_exporter": "python",
   "pygments_lexer": "ipython3",
   "version": "3.9.12"
  }
 },
 "nbformat": 4,
 "nbformat_minor": 5
}
